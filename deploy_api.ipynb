{
 "cells": [
  {
   "cell_type": "code",
   "execution_count": 9,
   "id": "ccfa3c68-788b-4e7c-94e4-27ee8841fddc",
   "metadata": {},
   "outputs": [],
   "source": [
    "from fastapi import FastAPI\n",
    "from pydantic import BaseModel\n",
    "import pickle\n",
    "import json\n",
    "import uvicorn\n",
    "from pyngrok import ngrok\n",
    "from fastapi.middleware.cors import CORSMiddleware\n",
    "import nest_asyncio"
   ]
  },
  {
   "cell_type": "code",
   "execution_count": 10,
   "id": "fd485dce-b81a-4237-ac31-999de2795cef",
   "metadata": {},
   "outputs": [],
   "source": [
    "app = FastAPI()"
   ]
  },
  {
   "cell_type": "code",
   "execution_count": 11,
   "id": "ce64cbf6-73fd-483c-b619-23419edb426b",
   "metadata": {},
   "outputs": [],
   "source": [
    "origins = [\"*\"]\n",
    "\n",
    "app.add_middleware(\n",
    "    CORSMiddleware,\n",
    "    allow_origins=origins,\n",
    "    allow_credentials=True,\n",
    "    allow_methods=[\"*\"],\n",
    "    allow_headers=[\"*\"],\n",
    ")"
   ]
  },
  {
   "cell_type": "code",
   "execution_count": 12,
   "id": "1faa4fba-91ef-4141-a38d-11a273bd7dd8",
   "metadata": {},
   "outputs": [],
   "source": [
    "class model_input(BaseModel):\n",
    "    Pregnancies : int\n",
    "    Glucose : int\n",
    "    BloodPressure : int\n",
    "    SkinThickness : int\n",
    "    Insulin : int\n",
    "    BMI : float\n",
    "    DiabetesPedigreeFunction : float\n",
    "    Age : int"
   ]
  },
  {
   "cell_type": "code",
   "execution_count": 14,
   "id": "1aa3d617-5404-43ac-88bf-3e76d5876db7",
   "metadata": {},
   "outputs": [],
   "source": [
    "diabetes_model = pickle.load(open('diabetes_model.sav','rb'))"
   ]
  },
  {
   "cell_type": "code",
   "execution_count": 15,
   "id": "a6da95f0-bdc3-4313-afa7-8c52f89c8de6",
   "metadata": {},
   "outputs": [],
   "source": [
    "@app.post('/diabetes_prediction')\n",
    "def diabetes_pred(input_parameters : model_input):\n",
    "    input_data = input_parameters.json()\n",
    "    input_dictionary = json.loads(input_data)\n",
    "\n",
    "    preg = input_dictionary['Pregnancies']\n",
    "    glu = input_dictionary['Glucose']\n",
    "    bp = input_dictionary['BloodPressure']\n",
    "    skin = input_dictionary['SkinThickness']\n",
    "    insulin = input_dictionary['Insulin']\n",
    "    bmi = input_dictionary['BMI']\n",
    "    dpf = input_dictionary['DiabetesPedigreeFunction']\n",
    "    age = input_dictionary['Age']\n",
    "    \n",
    "    \n",
    "    input_list = [preg, glu, bp, skin, insulin, bmi, dpf, age]\n",
    "    \n",
    "    prediction = diabetes_model.predict([input_list])\n",
    "    if (prediction[0] == 0):\n",
    "        return 'The person is not diabetic'\n",
    "    else:\n",
    "        return 'The person is diabetic'"
   ]
  },
  {
   "cell_type": "code",
   "execution_count": 22,
   "id": "237edb2b-b5c7-4209-ab57-37036e6c25d4",
   "metadata": {},
   "outputs": [
    {
     "name": "stdout",
     "output_type": "stream",
     "text": [
      "Installing ngrok ...                                                                                \r"
     ]
    },
    {
     "ename": "PyngrokNgrokInstallError",
     "evalue": "An error occurred while downloading ngrok from https://bin.equinox.io/c/bNyj1mQVY4c/ngrok-v3-stable-windows-amd64.zip: [Errno 13] Permission denied: 'C:\\\\Users\\\\vhsar\\\\AppData\\\\Local\\\\ngrok\\\\ngrok.exe'",
     "output_type": "error",
     "traceback": [
      "\u001b[1;31m---------------------------------------------------------------------------\u001b[0m",
      "\u001b[1;31mPermissionError\u001b[0m                           Traceback (most recent call last)",
      "File \u001b[1;32m~\\AppData\\Local\\Programs\\Python\\Python312\\Lib\\site-packages\\pyngrok\\installer.py:124\u001b[0m, in \u001b[0;36minstall_ngrok\u001b[1;34m(ngrok_path, ngrok_version, **kwargs)\u001b[0m\n\u001b[0;32m    122\u001b[0m     download_path \u001b[38;5;241m=\u001b[39m _download_file(url, \u001b[38;5;241m*\u001b[39m\u001b[38;5;241m*\u001b[39mkwargs)\n\u001b[1;32m--> 124\u001b[0m     \u001b[43m_install_ngrok_zip\u001b[49m\u001b[43m(\u001b[49m\u001b[43mngrok_path\u001b[49m\u001b[43m,\u001b[49m\u001b[43m \u001b[49m\u001b[43mdownload_path\u001b[49m\u001b[43m)\u001b[49m\n\u001b[0;32m    125\u001b[0m \u001b[38;5;28;01mexcept\u001b[39;00m \u001b[38;5;167;01mException\u001b[39;00m \u001b[38;5;28;01mas\u001b[39;00m e:\n",
      "File \u001b[1;32m~\\AppData\\Local\\Programs\\Python\\Python312\\Lib\\site-packages\\pyngrok\\installer.py:141\u001b[0m, in \u001b[0;36m_install_ngrok_zip\u001b[1;34m(ngrok_path, zip_path)\u001b[0m\n\u001b[0;32m    140\u001b[0m     logger\u001b[38;5;241m.\u001b[39mdebug(\u001b[38;5;124mf\u001b[39m\u001b[38;5;124m\"\u001b[39m\u001b[38;5;124mExtracting ngrok binary from \u001b[39m\u001b[38;5;132;01m{\u001b[39;00mzip_path\u001b[38;5;132;01m}\u001b[39;00m\u001b[38;5;124m to \u001b[39m\u001b[38;5;132;01m{\u001b[39;00mngrok_path\u001b[38;5;132;01m}\u001b[39;00m\u001b[38;5;124m ...\u001b[39m\u001b[38;5;124m\"\u001b[39m)\n\u001b[1;32m--> 141\u001b[0m     \u001b[43mzip_ref\u001b[49m\u001b[38;5;241;43m.\u001b[39;49m\u001b[43mextractall\u001b[49m\u001b[43m(\u001b[49m\u001b[43mos\u001b[49m\u001b[38;5;241;43m.\u001b[39;49m\u001b[43mpath\u001b[49m\u001b[38;5;241;43m.\u001b[39;49m\u001b[43mdirname\u001b[49m\u001b[43m(\u001b[49m\u001b[43mngrok_path\u001b[49m\u001b[43m)\u001b[49m\u001b[43m)\u001b[49m\n\u001b[0;32m    143\u001b[0m os\u001b[38;5;241m.\u001b[39mchmod(ngrok_path, \u001b[38;5;28mint\u001b[39m(\u001b[38;5;124m\"\u001b[39m\u001b[38;5;124m777\u001b[39m\u001b[38;5;124m\"\u001b[39m, \u001b[38;5;241m8\u001b[39m))\n",
      "File \u001b[1;32m~\\AppData\\Local\\Programs\\Python\\Python312\\Lib\\zipfile\\__init__.py:1744\u001b[0m, in \u001b[0;36mZipFile.extractall\u001b[1;34m(self, path, members, pwd)\u001b[0m\n\u001b[0;32m   1743\u001b[0m \u001b[38;5;28;01mfor\u001b[39;00m zipinfo \u001b[38;5;129;01min\u001b[39;00m members:\n\u001b[1;32m-> 1744\u001b[0m     \u001b[38;5;28;43mself\u001b[39;49m\u001b[38;5;241;43m.\u001b[39;49m\u001b[43m_extract_member\u001b[49m\u001b[43m(\u001b[49m\u001b[43mzipinfo\u001b[49m\u001b[43m,\u001b[49m\u001b[43m \u001b[49m\u001b[43mpath\u001b[49m\u001b[43m,\u001b[49m\u001b[43m \u001b[49m\u001b[43mpwd\u001b[49m\u001b[43m)\u001b[49m\n",
      "File \u001b[1;32m~\\AppData\\Local\\Programs\\Python\\Python312\\Lib\\zipfile\\__init__.py:1801\u001b[0m, in \u001b[0;36mZipFile._extract_member\u001b[1;34m(self, member, targetpath, pwd)\u001b[0m\n\u001b[0;32m   1798\u001b[0m     \u001b[38;5;28;01mreturn\u001b[39;00m targetpath\n\u001b[0;32m   1800\u001b[0m \u001b[38;5;28;01mwith\u001b[39;00m \u001b[38;5;28mself\u001b[39m\u001b[38;5;241m.\u001b[39mopen(member, pwd\u001b[38;5;241m=\u001b[39mpwd) \u001b[38;5;28;01mas\u001b[39;00m source, \\\n\u001b[1;32m-> 1801\u001b[0m      \u001b[38;5;28;43mopen\u001b[39;49m\u001b[43m(\u001b[49m\u001b[43mtargetpath\u001b[49m\u001b[43m,\u001b[49m\u001b[43m \u001b[49m\u001b[38;5;124;43m\"\u001b[39;49m\u001b[38;5;124;43mwb\u001b[39;49m\u001b[38;5;124;43m\"\u001b[39;49m\u001b[43m)\u001b[49m \u001b[38;5;28;01mas\u001b[39;00m target:\n\u001b[0;32m   1802\u001b[0m     shutil\u001b[38;5;241m.\u001b[39mcopyfileobj(source, target)\n",
      "\u001b[1;31mPermissionError\u001b[0m: [Errno 13] Permission denied: 'C:\\\\Users\\\\vhsar\\\\AppData\\\\Local\\\\ngrok\\\\ngrok.exe'",
      "\nDuring handling of the above exception, another exception occurred:\n",
      "\u001b[1;31mPyngrokNgrokInstallError\u001b[0m                  Traceback (most recent call last)",
      "Cell \u001b[1;32mIn[22], line 11\u001b[0m\n\u001b[0;32m      9\u001b[0m     myssl\u001b[38;5;241m.\u001b[39mcheck_hostname\u001b[38;5;241m=\u001b[39m\u001b[38;5;28;01mFalse\u001b[39;00m\n\u001b[0;32m     10\u001b[0m     myssl\u001b[38;5;241m.\u001b[39mverify_mode\u001b[38;5;241m=\u001b[39mssl\u001b[38;5;241m.\u001b[39mCERT_NONE\n\u001b[1;32m---> 11\u001b[0m     \u001b[43minstaller\u001b[49m\u001b[38;5;241;43m.\u001b[39;49m\u001b[43minstall_ngrok\u001b[49m\u001b[43m(\u001b[49m\u001b[43mpyngrok_config\u001b[49m\u001b[38;5;241;43m.\u001b[39;49m\u001b[43mngrok_path\u001b[49m\u001b[43m)\u001b[49m\n\u001b[0;32m     13\u001b[0m ngrok_tunnel \u001b[38;5;241m=\u001b[39m ngrok\u001b[38;5;241m.\u001b[39mconnect(\u001b[38;5;241m5000\u001b[39m)\u001b[38;5;241m.\u001b[39mpublic_url\n",
      "File \u001b[1;32m~\\AppData\\Local\\Programs\\Python\\Python312\\Lib\\site-packages\\pyngrok\\installer.py:126\u001b[0m, in \u001b[0;36minstall_ngrok\u001b[1;34m(ngrok_path, ngrok_version, **kwargs)\u001b[0m\n\u001b[0;32m    124\u001b[0m     _install_ngrok_zip(ngrok_path, download_path)\n\u001b[0;32m    125\u001b[0m \u001b[38;5;28;01mexcept\u001b[39;00m \u001b[38;5;167;01mException\u001b[39;00m \u001b[38;5;28;01mas\u001b[39;00m e:\n\u001b[1;32m--> 126\u001b[0m     \u001b[38;5;28;01mraise\u001b[39;00m PyngrokNgrokInstallError(\u001b[38;5;124mf\u001b[39m\u001b[38;5;124m\"\u001b[39m\u001b[38;5;124mAn error occurred while downloading ngrok from \u001b[39m\u001b[38;5;132;01m{\u001b[39;00murl\u001b[38;5;132;01m}\u001b[39;00m\u001b[38;5;124m: \u001b[39m\u001b[38;5;132;01m{\u001b[39;00me\u001b[38;5;132;01m}\u001b[39;00m\u001b[38;5;124m\"\u001b[39m)\n",
      "\u001b[1;31mPyngrokNgrokInstallError\u001b[0m: An error occurred while downloading ngrok from https://bin.equinox.io/c/bNyj1mQVY4c/ngrok-v3-stable-windows-amd64.zip: [Errno 13] Permission denied: 'C:\\\\Users\\\\vhsar\\\\AppData\\\\Local\\\\ngrok\\\\ngrok.exe'"
     ]
    }
   ],
   "source": [
    "import ssl\n",
    "import os\n",
    "from pyngrok import ngrok, conf, installer\n",
    "\n",
    "pyngrok_config = conf.get_default()\n",
    "\n",
    "if not os.path.exists(pyngrok_config.ngrok_path):\n",
    "    myssl = ssl.create_default_context();\n",
    "    myssl.check_hostname=False\n",
    "    myssl.verify_mode=ssl.CERT_NONE\n",
    "    installer.install_ngrok(pyngrok_config.ngrok_path)\n",
    "\n",
    "ngrok_tunnel = ngrok.connect(5000).public_url"
   ]
  },
  {
   "cell_type": "code",
   "execution_count": null,
   "id": "3e5f793e-8349-4b79-8a1e-e0959e7cbb78",
   "metadata": {},
   "outputs": [],
   "source": []
  }
 ],
 "metadata": {
  "kernelspec": {
   "display_name": "Python 3 (ipykernel)",
   "language": "python",
   "name": "python3"
  },
  "language_info": {
   "codemirror_mode": {
    "name": "ipython",
    "version": 3
   },
   "file_extension": ".py",
   "mimetype": "text/x-python",
   "name": "python",
   "nbconvert_exporter": "python",
   "pygments_lexer": "ipython3",
   "version": "3.12.3"
  }
 },
 "nbformat": 4,
 "nbformat_minor": 5
}
